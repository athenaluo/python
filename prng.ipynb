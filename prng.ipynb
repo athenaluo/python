{
 "cells": [
  {
   "cell_type": "code",
   "execution_count": 16,
   "metadata": {},
   "outputs": [
    {
     "name": "stdout",
     "output_type": "stream",
     "text": [
      "Input any number:9999999999099999999999999999999999999999999999999999999999999999999999999999999999999999999999999999999999999999999999999999999999999999999999999999999999999999999999999999999999999\n",
      "First time Random number generated based on the input:\n",
      "7714236539735621607795781711508602489791010884100145316080589677149314051299048479457543999300572089306801067498900745149534469796146165416655333888222705085289510235340309625176383\n"
     ]
    }
   ],
   "source": [
    "import random\n",
    "seed = int (input (\"Input any number:\"))\n",
    "if seed == 1:\n",
    "    print(\"No point in doing only one. Please be a better person or you will be oofed\")\n",
    "else:\n",
    "    result = random.randint(1, seed)\n",
    "\n",
    "    print (\"First time Random number generated based on the input:\")\n",
    "    print (result)\n",
    "\n",
    "    while (result == seed):\n",
    "        result = random.randint(1, seed)\n",
    "        print (\"Another time Random number generated based on the input:\")\n",
    "        print (result)"
   ]
  },
  {
   "cell_type": "code",
   "execution_count": null,
   "metadata": {},
   "outputs": [],
   "source": []
  },
  {
   "cell_type": "code",
   "execution_count": null,
   "metadata": {},
   "outputs": [],
   "source": []
  }
 ],
 "metadata": {
  "kernelspec": {
   "display_name": "Python 3",
   "language": "python",
   "name": "python3"
  },
  "language_info": {
   "codemirror_mode": {
    "name": "ipython",
    "version": 3
   },
   "file_extension": ".py",
   "mimetype": "text/x-python",
   "name": "python",
   "nbconvert_exporter": "python",
   "pygments_lexer": "ipython3",
   "version": "3.7.3"
  }
 },
 "nbformat": 4,
 "nbformat_minor": 4
}
